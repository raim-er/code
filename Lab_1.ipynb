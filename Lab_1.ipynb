{
  "nbformat": 4,
  "nbformat_minor": 0,
  "metadata": {
    "colab": {
      "provenance": [],
      "include_colab_link": true
    },
    "kernelspec": {
      "name": "python3",
      "display_name": "Python 3"
    },
    "language_info": {
      "name": "python"
    }
  },
  "cells": [
    {
      "cell_type": "markdown",
      "metadata": {
        "id": "view-in-github",
        "colab_type": "text"
      },
      "source": [
        "<a href=\"https://colab.research.google.com/github/raim-er/code/blob/main/Lab_1.ipynb\" target=\"_parent\"><img src=\"https://colab.research.google.com/assets/colab-badge.svg\" alt=\"Open In Colab\"/></a>"
      ]
    },
    {
      "cell_type": "markdown",
      "source": [
        "1.Төмөнкү жарыялоорду аткаруу жана түшүндүрүү.\n",
        "x = str(3)\n",
        "y = int(3)\n",
        "z = float(3)\n",
        "print(x)\n",
        "print(y)\n",
        "print(z)"
      ],
      "metadata": {
        "id": "GzROGxU07h33"
      }
    },
    {
      "cell_type": "code",
      "source": [
        "x=\"3\"\n",
        "y=3\n",
        "z=3.0\n",
        "print(x)\n",
        "print(y)\n",
        "print(z)\n"
      ],
      "metadata": {
        "colab": {
          "base_uri": "https://localhost:8080/"
        },
        "id": "2Tqx0OZabFma",
        "outputId": "e00b113c-eb44-4b79-b68e-f699fd94bb48"
      },
      "execution_count": null,
      "outputs": [
        {
          "output_type": "stream",
          "name": "stdout",
          "text": [
            "3\n",
            "3\n",
            "3.0\n"
          ]
        }
      ]
    },
    {
      "cell_type": "markdown",
      "source": [
        "2.Төмөнкү жарыялоорду аткаруу жана түшүндүрүү.\n",
        "x = 5\n",
        "y = \"John\"\n",
        "print(type(x))\n",
        "print(type(y))\n"
      ],
      "metadata": {
        "id": "4_Zu_Lb98EZA"
      }
    },
    {
      "cell_type": "code",
      "source": [
        "x=5\n",
        "y=\"John\"\n",
        "print(type(x))\n",
        "print(type(y))"
      ],
      "metadata": {
        "id": "dd-IRDII8Rpm",
        "colab": {
          "base_uri": "https://localhost:8080/"
        },
        "outputId": "e200a565-8d46-4726-fcca-10e9d9b5aa9c"
      },
      "execution_count": null,
      "outputs": [
        {
          "output_type": "stream",
          "name": "stdout",
          "text": [
            "<class 'int'>\n",
            "<class 'str'>\n"
          ]
        }
      ]
    },
    {
      "cell_type": "markdown",
      "source": [
        "3.Өзгөрмөлөрдүн аталыштары жана аларды жарыялоо. Жыйынтыктарды жазуу.\n",
        "myvar = \"John\"\n",
        "my_var = \"John\"\n",
        "_my_var = \"John\"\n",
        "myVar = \"John\"\n",
        "MYVAR = \"John\"\n",
        "myvar2 = \"John\""
      ],
      "metadata": {
        "id": "p5LhPQTG8Tb3"
      }
    },
    {
      "cell_type": "code",
      "source": [
        "myvar=\"John\"\n",
        "my_var=\"John\"\n",
        "_my_var=\"John\"\n",
        "myVar=\"John\"\n",
        "MYVAR=\"John\"\n",
        "myvar2=\"John\""
      ],
      "metadata": {
        "id": "67xFwhdp8zTH"
      },
      "execution_count": null,
      "outputs": []
    },
    {
      "cell_type": "markdown",
      "source": [
        "4.Өзгөрмөлөрдүн аталыштары жана аларды жарыялоо. Жыйынтыктарды жазуу.\n",
        "x, y, z = \"Orange\", \"Banana\", \"Cherry\"\n",
        "print(x)\n",
        "print(y)\n",
        "print(z)"
      ],
      "metadata": {
        "id": "wUpA6SUc85TQ"
      }
    },
    {
      "cell_type": "code",
      "source": [
        "x,y,z=\"Orange\",\"Banana\",\"Cherry\"\n",
        "print(x)\n",
        "print(y)\n",
        "print(z)"
      ],
      "metadata": {
        "id": "BujwAgsx8-3f",
        "colab": {
          "base_uri": "https://localhost:8080/"
        },
        "outputId": "390a497c-4ca8-4726-aa4f-9142f16a0266"
      },
      "execution_count": null,
      "outputs": [
        {
          "output_type": "stream",
          "name": "stdout",
          "text": [
            "Orange\n",
            "Banana\n",
            "Cherry\n"
          ]
        }
      ]
    },
    {
      "cell_type": "markdown",
      "source": [
        "Cтажер дагы бир тапшырма алды - финансылык отчеттуулукту автоматташтыруу. Бул татаал угулат, бирок чындыгында, сиз жөн гана отчет үчүн керектүү эсептөөлөрдү автоматтык түрдө эсептей турган кодду жазышыңыз керек. Программада ишке ашырылышы керек болгон эсептөөлөр: кирешенин өсүш же төмөндөшүнүн динамикасын түшүнүү үчүн биринчи эки кварталдын кирешесинин суммасын акыркы эки кварталдын суммасына бөлүү.\n",
        "\n",
        "Программадагы аракеттердин алгоритми:\n",
        "\n",
        "Колдонуучудан төрт санды сураңыз.\n",
        "Биринчи эки жана экинчи эки өзүнчө кошуу.\n",
        "Биринчи сумманы экинчисине бөлүңүз.\n",
        "Натыйжаны экранда көрсөтүңүз."
      ],
      "metadata": {
        "id": "qDDrZiUV-NJo"
      }
    },
    {
      "cell_type": "code",
      "source": [
        "n=int(input())\n",
        "m=int(input())\n",
        "a=int(input())\n",
        "b=int(input())\n",
        "sum1=n+m\n",
        "sum2=a+b\n",
        "d=sum1/sum2\n",
        "print(sum1)\n",
        "print(sum2)\n",
        "print(d)\n"
      ],
      "metadata": {
        "id": "CfS5iZt8_FUd",
        "colab": {
          "base_uri": "https://localhost:8080/"
        },
        "outputId": "91f5b90b-3522-4586-cddb-bcd842c7a920"
      },
      "execution_count": null,
      "outputs": [
        {
          "output_type": "stream",
          "name": "stdout",
          "text": [
            "1\n",
            "2\n",
            "3\n",
            "4\n",
            "3\n",
            "7\n",
            "0.42857142857142855\n"
          ]
        }
      ]
    },
    {
      "cell_type": "markdown",
      "source": [
        "Колдонуучудан бир санды сураган жана эки жоопту, кийинки жана мурунку санды көрсөткөн программаны жазыңыз."
      ],
      "metadata": {
        "id": "3pO3B-J5_IA9"
      }
    },
    {
      "cell_type": "code",
      "source": [
        "a=int(input())\n",
        "b=a+1\n",
        "c=a-1\n",
        "print(b)\n",
        "print(c)"
      ],
      "metadata": {
        "id": "hKDtFiYv_VZu",
        "colab": {
          "base_uri": "https://localhost:8080/"
        },
        "outputId": "d778cdfa-481d-44ea-a35a-80c529915737"
      },
      "execution_count": null,
      "outputs": [
        {
          "output_type": "stream",
          "name": "stdout",
          "text": [
            "5\n",
            "6\n",
            "4\n"
          ]
        }
      ]
    },
    {
      "cell_type": "markdown",
      "source": [
        "Колдонуучудан тик бурчтуктун эки катетинин узундугун сураган жана анын аянтын көрсөткөн программаны жазыңыз."
      ],
      "metadata": {
        "id": "x9E254rD_Uw9"
      }
    },
    {
      "cell_type": "code",
      "source": [
        "katet1=int(input())\n",
        "katet2=int(input())\n",
        "s=(katet1*katet2)/2\n",
        "print(s)"
      ],
      "metadata": {
        "id": "FFiN85Yj_dPF",
        "colab": {
          "base_uri": "https://localhost:8080/"
        },
        "outputId": "52f8cee9-64d1-4337-814b-8b4cb1bec79a"
      },
      "execution_count": null,
      "outputs": [
        {
          "output_type": "stream",
          "name": "stdout",
          "text": [
            "10\n",
            "15\n",
            "75.0\n"
          ]
        }
      ]
    },
    {
      "cell_type": "markdown",
      "source": [
        "Киргизүү катары n санын (мүнөттөрдүн саны) алган программа жазыңыз, андан кийин анын канча саат болорун жана канча мүнөт калаарын эсептеп, бул эки натыйжаны экранга чыгарыңыз."
      ],
      "metadata": {
        "id": "2xH3LVA3_k--"
      }
    },
    {
      "cell_type": "code",
      "source": [
        "a=int(input())\n",
        "saat=a/60\n",
        "minut=a%60\n",
        "print(int(saat))\n",
        "print(minut)"
      ],
      "metadata": {
        "id": "l7a6RMTt_m6t",
        "colab": {
          "base_uri": "https://localhost:8080/"
        },
        "outputId": "830f90f1-0780-478d-cb84-711d5af5006f"
      },
      "execution_count": 26,
      "outputs": [
        {
          "output_type": "stream",
          "name": "stdout",
          "text": [
            "360\n",
            "6\n",
            "0\n"
          ]
        }
      ]
    },
    {
      "cell_type": "markdown",
      "source": [
        "Бухгалтер сандарды бат кошот, бирок кээде акыркы эки цифраны унутуп калат. Ага жардам берүү үчүн, акыркы эки цифраны гана кошо турган программа жазгыла.\n",
        "\n",
        "Колдонуучуга эки санды талап кылган программаны ишке ашырыңыз. Андан кийин, ар бир сан үчүн акыркы эки цифраны алыңыз. Алынган эки санды кошуп, аларды экранга чыгарыңыз."
      ],
      "metadata": {
        "id": "6kEfub4-_zF0"
      }
    },
    {
      "cell_type": "code",
      "source": [
        "a=int(input())\n",
        "b=int(input())\n",
        "num=a%100\n",
        "num1=b%100\n",
        "sum=num+num1\n",
        "print(num)\n",
        "print(num1)\n",
        "print(sum)"
      ],
      "metadata": {
        "id": "8rubnLse_6qe",
        "colab": {
          "base_uri": "https://localhost:8080/"
        },
        "outputId": "1f387f64-676d-439f-d38e-6eca37755100"
      },
      "execution_count": 27,
      "outputs": [
        {
          "output_type": "stream",
          "name": "stdout",
          "text": [
            "345\n",
            "456\n",
            "45\n",
            "56\n",
            "101\n"
          ]
        }
      ]
    },
    {
      "cell_type": "markdown",
      "source": [
        "Киргизүүгө төрт орундуу санды кабыл алган жана анын ар бир цифрасын өзүнчө (бир сапта же ар бир цифра жаңы сапта) көрсөткөн программаны ишке ашыруу. Сандын өзүн өзгөртүүгө болбойт, башкача айтканда, кайра менчиктөөсүз жасоо керек. Бирок, каалагандай көп өзгөрмөлөрдү колдонууга болот."
      ],
      "metadata": {
        "id": "3FT3z8C6_62u"
      }
    },
    {
      "cell_type": "code",
      "source": [
        "num=int(input())\n",
        "a=num%10\n",
        "num//=10\n",
        "b=num%10\n",
        "num//=10\n",
        "c=num%10\n",
        "d=num//10\n",
        "print(d)\n",
        "print(c)\n",
        "print(b)\n",
        "print(a)"
      ],
      "metadata": {
        "id": "WdilNVlMqIjD",
        "colab": {
          "base_uri": "https://localhost:8080/"
        },
        "outputId": "ad742ca1-a12b-4806-b8fc-db7e30ed5bb0"
      },
      "execution_count": null,
      "outputs": [
        {
          "output_type": "stream",
          "name": "stdout",
          "text": [
            "1234\n",
            "1\n",
            "2\n",
            "3\n",
            "4\n"
          ]
        }
      ]
    },
    {
      "cell_type": "markdown",
      "source": [
        "Өзгөрмөлөр сандарды да сактай аларын билесиз. Эки өзгөрмөнүн маанилерин алмаштырган программаны жазыңыз, бирок үчүнчү өзгөрмөнү жана синтаксистик сахарды колдонбостон, тактап айтканда: a, b = b, a конструкциясы жок. Өзгөрмөлөргө сандар гана киргизилет."
      ],
      "metadata": {
        "id": "CikiyWoMBy49"
      }
    },
    {
      "cell_type": "code",
      "source": [
        "a=int(input())\n",
        "b=int(input())\n",
        "a=a*b\n",
        "b=int(a/b)\n",
        "a=int(a/b)\n",
        "print(a)\n",
        "print(b)"
      ],
      "metadata": {
        "id": "vLMwRiGyB-KK",
        "colab": {
          "base_uri": "https://localhost:8080/"
        },
        "outputId": "37d5e213-1e0b-4591-9985-5d4f426d9749"
      },
      "execution_count": 28,
      "outputs": [
        {
          "output_type": "stream",
          "name": "stdout",
          "text": [
            "1\n",
            "6\n",
            "6\n",
            "1\n"
          ]
        }
      ]
    },
    {
      "cell_type": "markdown",
      "source": [
        "Квадраттык теңдеменин тамырын эсептөө, a, b, c коэффициенттери клавиатурадан киргизилет."
      ],
      "metadata": {
        "id": "B30unrdjGBI1"
      }
    },
    {
      "cell_type": "code",
      "source": [
        "import math\n",
        "a=int(input())\n",
        "b=int(input())\n",
        "c=int(input())\n",
        "d=b**2-4*a*c\n",
        "if(d>0):\n",
        "  x1=(-b+math.sqrt(d))/(-2*a)\n",
        "  x1=(-b-math.sqrt(d))/(-2*a)\n",
        "  print(\"x1=\",x1)\n",
        "  print(\"x2=\",x1)\n",
        "elif(d==0):\n",
        "  x=(-b)/2*a\n",
        "  print(\"x=\",x)\n",
        "else:\n",
        "        print(\"net korney\")"
      ],
      "metadata": {
        "id": "hJncAeTKGCz0",
        "colab": {
          "base_uri": "https://localhost:8080/"
        },
        "outputId": "f2ace06f-9357-4977-ece2-b69ba512e8f0"
      },
      "execution_count": 32,
      "outputs": [
        {
          "output_type": "stream",
          "name": "stdout",
          "text": [
            "3\n",
            "4\n",
            "5\n",
            "net korney\n"
          ]
        }
      ]
    }
  ]
}